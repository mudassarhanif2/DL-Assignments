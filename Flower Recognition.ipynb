{
 "cells": [
  {
   "cell_type": "code",
   "execution_count": null,
   "metadata": {
    "id": "mbN1HZIbL1Pf"
   },
   "outputs": [],
   "source": [
    "from google.colab import drive"
   ]
  },
  {
   "cell_type": "code",
   "execution_count": null,
   "metadata": {
    "colab": {
     "base_uri": "https://localhost:8080/"
    },
    "id": "4ORFXPlQMlHX",
    "outputId": "213196de-23f9-47fa-8f8c-3d80f116308f"
   },
   "outputs": [
    {
     "name": "stdout",
     "output_type": "stream",
     "text": [
      "Drive already mounted at /content/drive; to attempt to forcibly remount, call drive.mount(\"/content/drive\", force_remount=True).\n"
     ]
    }
   ],
   "source": [
    "drive.mount('/content/drive')"
   ]
  },
  {
   "cell_type": "code",
   "execution_count": 15,
   "metadata": {
    "id": "Di-rGDubTz-1"
   },
   "outputs": [],
   "source": [
    "import numpy as np\n",
    "import pandas as pd\n",
    "import tensorflow as tf\n",
    "from tensorflow.keras import models\n",
    "from tensorflow.keras import layers\n",
    "from tensorflow.keras.preprocessing.image import ImageDataGenerator\n",
    "from tensorflow.keras.models import Sequential\n",
    "from tensorflow.keras.layers import Dense, Flatten\n",
    "from tensorflow.keras.optimizers import RMSprop\n"
   ]
  },
  {
   "cell_type": "code",
   "execution_count": 16,
   "metadata": {
    "colab": {
     "base_uri": "https://localhost:8080/"
    },
    "id": "wzWPuqYbWB3L",
    "outputId": "3d3ed605-d436-474d-dfb0-52b7c8d05756"
   },
   "outputs": [
    {
     "name": "stdout",
     "output_type": "stream",
     "text": [
      "Found 2597 images belonging to 5 classes.\n",
      "Found 1726 images belonging to 5 classes.\n"
     ]
    }
   ],
   "source": [
    "val_batch = 10\n",
    "train_batch = 20\n",
    "train_datagen = ImageDataGenerator(\n",
    "        rescale=1./255,\n",
    "        shear_range=0.4,\n",
    "        zoom_range=0.3,\n",
    "        validation_split=0.4,\n",
    "        horizontal_flip=True,\n",
    "        )\n",
    "train_generator = train_datagen.flow_from_directory(\n",
    "        '/content/drive/MyDrive/flowers',\n",
    "        target_size=(180, 180),\n",
    "        batch_size=train_batch,\n",
    "        class_mode='categorical',\n",
    "        subset = 'training',\n",
    "        shuffle = True\n",
    "        )\n",
    "validation_generator = train_datagen.flow_from_directory(\n",
    "        '/content/drive/MyDrive/flowers',\n",
    "        target_size=(180, 180),\n",
    "        batch_size=val_batch,\n",
    "        class_mode='categorical',\n",
    "        subset = 'validation',\n",
    "        shuffle= True)\n"
   ]
  },
  {
   "cell_type": "code",
   "execution_count": 17,
   "metadata": {
    "colab": {
     "base_uri": "https://localhost:8080/"
    },
    "id": "ndCgzjx1XRaX",
    "outputId": "e84c804b-bf3a-46d3-a480-1eebee736161"
   },
   "outputs": [
    {
     "data": {
      "text/plain": [
       "2"
      ]
     },
     "execution_count": 17,
     "metadata": {
      "tags": []
     },
     "output_type": "execute_result"
    }
   ],
   "source": [
    "len(validation_generator[172])"
   ]
  },
  {
   "cell_type": "code",
   "execution_count": 18,
   "metadata": {
    "colab": {
     "base_uri": "https://localhost:8080/"
    },
    "id": "j2FOZH1MXR6I",
    "outputId": "f8fad3f6-6c41-4277-8fa8-33c87688a914"
   },
   "outputs": [
    {
     "data": {
      "text/plain": [
       "array([[0., 0., 1., 0., 0.],\n",
       "       [0., 1., 0., 0., 0.],\n",
       "       [1., 0., 0., 0., 0.],\n",
       "       [0., 0., 0., 1., 0.],\n",
       "       [0., 1., 0., 0., 0.],\n",
       "       [1., 0., 0., 0., 0.]], dtype=float32)"
      ]
     },
     "execution_count": 18,
     "metadata": {
      "tags": []
     },
     "output_type": "execute_result"
    }
   ],
   "source": [
    "validation_generator[172][1]"
   ]
  },
  {
   "cell_type": "code",
   "execution_count": 19,
   "metadata": {
    "colab": {
     "base_uri": "https://localhost:8080/"
    },
    "id": "8F_4k-fXXT_2",
    "outputId": "030b4c84-99b6-46ca-d2bd-d47b171b7177"
   },
   "outputs": [
    {
     "data": {
      "text/plain": [
       "array([0, 0, 0, ..., 4, 4, 4], dtype=int32)"
      ]
     },
     "execution_count": 19,
     "metadata": {
      "tags": []
     },
     "output_type": "execute_result"
    }
   ],
   "source": [
    "validation_generator.labels"
   ]
  },
  {
   "cell_type": "code",
   "execution_count": 20,
   "metadata": {
    "colab": {
     "base_uri": "https://localhost:8080/"
    },
    "id": "QdcgozCrXV0k",
    "outputId": "1dfe9548-3f1a-41c2-e893-662e5e517875"
   },
   "outputs": [
    {
     "data": {
      "text/plain": [
       "{'daisy': 0, 'dandelion': 1, 'rose': 2, 'sunflower': 3, 'tulip': 4}"
      ]
     },
     "execution_count": 20,
     "metadata": {
      "tags": []
     },
     "output_type": "execute_result"
    }
   ],
   "source": [
    "train_generator.class_indices"
   ]
  },
  {
   "cell_type": "code",
   "execution_count": 21,
   "metadata": {
    "colab": {
     "base_uri": "https://localhost:8080/"
    },
    "id": "svr-c1TRXaGC",
    "outputId": "38f51fda-ac3c-49a2-e5c0-ee5218de5d90"
   },
   "outputs": [
    {
     "data": {
      "text/plain": [
       "17"
      ]
     },
     "execution_count": 21,
     "metadata": {
      "tags": []
     },
     "output_type": "execute_result"
    }
   ],
   "source": [
    "len(train_generator[129][1])"
   ]
  },
  {
   "cell_type": "code",
   "execution_count": 22,
   "metadata": {
    "id": "aVr8a_t0XfIB"
   },
   "outputs": [],
   "source": [
    "#MOdels with COnv2D and Maxpooling\n",
    "model = tf.keras.models.Sequential([\n",
    "    # Note the input shape is the desired size of the image 150x150 with 3 bytes color\n",
    "    # This is the first convolution\n",
    "    tf.keras.layers.Conv2D(64, (3,3), activation='relu', input_shape=(180, 180, 3)),\n",
    "    tf.keras.layers.MaxPooling2D(2, 2),\n",
    "    # The second convolution\n",
    "    tf.keras.layers.Conv2D(64, (3,3), activation='relu'),\n",
    "    tf.keras.layers.MaxPooling2D(2,2),\n",
    "    # The third convolution\n",
    "    tf.keras.layers.Conv2D(32, (3,3), activation='relu'),\n",
    "    tf.keras.layers.MaxPooling2D(2,2),\n",
    "    # The fourth convolution\n",
    "    tf.keras.layers.Conv2D(16, (3,3), activation='relu'),\n",
    "    tf.keras.layers.MaxPooling2D(2,2),\n",
    "    # Flatten the results to feed into a DNN\n",
    "    tf.keras.layers.Flatten(),\n",
    "    tf.keras.layers.Dropout(0.5),\n",
    "    # 512 neuron hidden layer\n",
    "    tf.keras.layers.Dense(512, activation='relu'),\n",
    "    tf.keras.layers.Dense(5, activation='softmax')\n",
    "])"
   ]
  },
  {
   "cell_type": "code",
   "execution_count": 23,
   "metadata": {
    "id": "DZSuL6WhXhob"
   },
   "outputs": [],
   "source": [
    "model.compile(optimizer='adam',\n",
    "loss='categorical_crossentropy',\n",
    "metrics=['accuracy'])"
   ]
  },
  {
   "cell_type": "code",
   "execution_count": 24,
   "metadata": {
    "id": "qTY-j-T7Xjqw"
   },
   "outputs": [],
   "source": [
    "%tensorflow_version 2.x\n",
    "import tensorflow as tf"
   ]
  },
  {
   "cell_type": "code",
   "execution_count": 25,
   "metadata": {
    "colab": {
     "base_uri": "https://localhost:8080/"
    },
    "id": "JhiLyXgLXm1S",
    "outputId": "b573b090-f240-4926-8829-a5d10df406f2"
   },
   "outputs": [
    {
     "name": "stdout",
     "output_type": "stream",
     "text": [
      "Epoch 1/50\n",
      "30/30 [==============================] - 156s 5s/step - loss: 1.5908 - accuracy: 0.2501 - val_loss: 1.4796 - val_accuracy: 0.3767\n",
      "Epoch 2/50\n",
      "30/30 [==============================] - 121s 4s/step - loss: 1.4143 - accuracy: 0.3729 - val_loss: 1.3408 - val_accuracy: 0.3700\n",
      "Epoch 3/50\n",
      "30/30 [==============================] - 96s 3s/step - loss: 1.3030 - accuracy: 0.4501 - val_loss: 1.2037 - val_accuracy: 0.4700\n",
      "Epoch 4/50\n",
      "30/30 [==============================] - 86s 3s/step - loss: 1.2113 - accuracy: 0.4807 - val_loss: 1.1057 - val_accuracy: 0.5033\n",
      "Epoch 5/50\n",
      "30/30 [==============================] - 76s 3s/step - loss: 1.2282 - accuracy: 0.4701 - val_loss: 1.0896 - val_accuracy: 0.5500\n",
      "Epoch 6/50\n",
      "30/30 [==============================] - 74s 2s/step - loss: 1.0701 - accuracy: 0.6176 - val_loss: 1.1483 - val_accuracy: 0.5667\n",
      "Epoch 7/50\n",
      "30/30 [==============================] - 69s 2s/step - loss: 1.0840 - accuracy: 0.5753 - val_loss: 1.0266 - val_accuracy: 0.5833\n",
      "Epoch 8/50\n",
      "30/30 [==============================] - 67s 2s/step - loss: 0.9896 - accuracy: 0.6287 - val_loss: 1.0483 - val_accuracy: 0.5833\n",
      "Epoch 9/50\n",
      "30/30 [==============================] - 65s 2s/step - loss: 1.0592 - accuracy: 0.5982 - val_loss: 1.0290 - val_accuracy: 0.5700\n",
      "Epoch 10/50\n",
      "30/30 [==============================] - 61s 2s/step - loss: 1.0654 - accuracy: 0.5732 - val_loss: 1.2051 - val_accuracy: 0.5367\n",
      "Epoch 11/50\n",
      "30/30 [==============================] - 61s 2s/step - loss: 1.0091 - accuracy: 0.5986 - val_loss: 1.0638 - val_accuracy: 0.5833\n",
      "Epoch 12/50\n",
      "30/30 [==============================] - 61s 2s/step - loss: 0.9516 - accuracy: 0.6328 - val_loss: 1.0494 - val_accuracy: 0.5700\n",
      "Epoch 13/50\n",
      "30/30 [==============================] - 62s 2s/step - loss: 1.0181 - accuracy: 0.5969 - val_loss: 0.9498 - val_accuracy: 0.5900\n",
      "Epoch 14/50\n",
      "30/30 [==============================] - 60s 2s/step - loss: 0.8198 - accuracy: 0.6502 - val_loss: 0.9982 - val_accuracy: 0.6100\n",
      "Epoch 15/50\n",
      "30/30 [==============================] - 59s 2s/step - loss: 0.8707 - accuracy: 0.6637 - val_loss: 0.8394 - val_accuracy: 0.6533\n",
      "Epoch 16/50\n",
      "30/30 [==============================] - 58s 2s/step - loss: 0.9117 - accuracy: 0.6562 - val_loss: 0.9494 - val_accuracy: 0.6133\n",
      "Epoch 17/50\n",
      "30/30 [==============================] - 57s 2s/step - loss: 0.9410 - accuracy: 0.6004 - val_loss: 1.0451 - val_accuracy: 0.5833\n",
      "Epoch 18/50\n",
      "30/30 [==============================] - 59s 2s/step - loss: 0.9381 - accuracy: 0.6421 - val_loss: 0.9850 - val_accuracy: 0.6333\n",
      "Epoch 19/50\n",
      "30/30 [==============================] - 59s 2s/step - loss: 0.8805 - accuracy: 0.6510 - val_loss: 1.0108 - val_accuracy: 0.6033\n",
      "Epoch 20/50\n",
      "30/30 [==============================] - 57s 2s/step - loss: 0.9352 - accuracy: 0.6523 - val_loss: 0.8401 - val_accuracy: 0.6700\n",
      "Epoch 21/50\n",
      "30/30 [==============================] - 58s 2s/step - loss: 0.8868 - accuracy: 0.6771 - val_loss: 0.8356 - val_accuracy: 0.6833\n",
      "Epoch 22/50\n",
      "30/30 [==============================] - 57s 2s/step - loss: 0.8411 - accuracy: 0.6649 - val_loss: 1.0337 - val_accuracy: 0.5800\n",
      "Epoch 23/50\n",
      "30/30 [==============================] - 57s 2s/step - loss: 0.8512 - accuracy: 0.6629 - val_loss: 0.8484 - val_accuracy: 0.6667\n",
      "Epoch 24/50\n",
      "30/30 [==============================] - 58s 2s/step - loss: 0.7806 - accuracy: 0.7036 - val_loss: 0.8062 - val_accuracy: 0.6833\n",
      "Epoch 25/50\n",
      "30/30 [==============================] - 58s 2s/step - loss: 0.8549 - accuracy: 0.6778 - val_loss: 0.8680 - val_accuracy: 0.6533\n",
      "Epoch 26/50\n",
      "30/30 [==============================] - 57s 2s/step - loss: 0.8018 - accuracy: 0.6861 - val_loss: 0.9183 - val_accuracy: 0.6033\n",
      "Epoch 27/50\n",
      "30/30 [==============================] - 57s 2s/step - loss: 0.8732 - accuracy: 0.6302 - val_loss: 0.9406 - val_accuracy: 0.6467\n",
      "Epoch 28/50\n",
      "30/30 [==============================] - 57s 2s/step - loss: 0.8389 - accuracy: 0.7084 - val_loss: 0.8471 - val_accuracy: 0.6733\n",
      "Epoch 29/50\n",
      "30/30 [==============================] - 57s 2s/step - loss: 0.7725 - accuracy: 0.7150 - val_loss: 0.9245 - val_accuracy: 0.6367\n",
      "Epoch 30/50\n",
      "30/30 [==============================] - 57s 2s/step - loss: 0.8208 - accuracy: 0.6698 - val_loss: 0.9073 - val_accuracy: 0.6433\n",
      "Epoch 31/50\n",
      "30/30 [==============================] - 57s 2s/step - loss: 0.8144 - accuracy: 0.7115 - val_loss: 0.9386 - val_accuracy: 0.6733\n",
      "Epoch 32/50\n",
      "30/30 [==============================] - 58s 2s/step - loss: 0.7798 - accuracy: 0.6964 - val_loss: 0.8366 - val_accuracy: 0.6867\n",
      "Epoch 33/50\n",
      "30/30 [==============================] - 57s 2s/step - loss: 0.7444 - accuracy: 0.6716 - val_loss: 0.8093 - val_accuracy: 0.7200\n",
      "Epoch 34/50\n",
      "30/30 [==============================] - 58s 2s/step - loss: 0.7284 - accuracy: 0.7178 - val_loss: 0.8031 - val_accuracy: 0.6833\n",
      "Epoch 35/50\n",
      "30/30 [==============================] - 57s 2s/step - loss: 0.7524 - accuracy: 0.7184 - val_loss: 0.8868 - val_accuracy: 0.6633\n",
      "Epoch 36/50\n",
      "30/30 [==============================] - 57s 2s/step - loss: 0.7318 - accuracy: 0.7071 - val_loss: 0.8127 - val_accuracy: 0.6967\n",
      "Epoch 37/50\n",
      "30/30 [==============================] - 57s 2s/step - loss: 0.7297 - accuracy: 0.7521 - val_loss: 0.8368 - val_accuracy: 0.6933\n",
      "Epoch 38/50\n",
      "30/30 [==============================] - 57s 2s/step - loss: 0.8162 - accuracy: 0.6851 - val_loss: 0.8067 - val_accuracy: 0.7033\n",
      "Epoch 39/50\n",
      "30/30 [==============================] - 57s 2s/step - loss: 0.7278 - accuracy: 0.7117 - val_loss: 0.9698 - val_accuracy: 0.6367\n",
      "Epoch 40/50\n",
      "30/30 [==============================] - 57s 2s/step - loss: 0.8306 - accuracy: 0.6742 - val_loss: 1.0753 - val_accuracy: 0.5633\n",
      "Epoch 41/50\n",
      "30/30 [==============================] - 57s 2s/step - loss: 0.8822 - accuracy: 0.6590 - val_loss: 0.9596 - val_accuracy: 0.6100\n",
      "Epoch 42/50\n",
      "30/30 [==============================] - 57s 2s/step - loss: 0.8638 - accuracy: 0.6581 - val_loss: 0.7776 - val_accuracy: 0.6933\n",
      "Epoch 43/50\n",
      "30/30 [==============================] - 57s 2s/step - loss: 0.7960 - accuracy: 0.7056 - val_loss: 0.8183 - val_accuracy: 0.6933\n",
      "Epoch 44/50\n",
      "30/30 [==============================] - 57s 2s/step - loss: 0.7638 - accuracy: 0.7162 - val_loss: 0.8379 - val_accuracy: 0.6933\n",
      "Epoch 45/50\n",
      "30/30 [==============================] - 58s 2s/step - loss: 0.7164 - accuracy: 0.7274 - val_loss: 0.9114 - val_accuracy: 0.6833\n",
      "Epoch 46/50\n",
      "30/30 [==============================] - 57s 2s/step - loss: 0.7105 - accuracy: 0.7259 - val_loss: 0.7376 - val_accuracy: 0.6800\n",
      "Epoch 47/50\n",
      "30/30 [==============================] - 58s 2s/step - loss: 0.6762 - accuracy: 0.7472 - val_loss: 0.8663 - val_accuracy: 0.6800\n",
      "Epoch 48/50\n",
      "30/30 [==============================] - 58s 2s/step - loss: 0.7081 - accuracy: 0.7054 - val_loss: 0.8284 - val_accuracy: 0.6500\n",
      "Epoch 49/50\n",
      "30/30 [==============================] - 57s 2s/step - loss: 0.8478 - accuracy: 0.6557 - val_loss: 0.8649 - val_accuracy: 0.6833\n",
      "Epoch 50/50\n",
      "30/30 [==============================] - 57s 2s/step - loss: 0.7331 - accuracy: 0.7419 - val_loss: 0.8994 - val_accuracy: 0.7000\n"
     ]
    }
   ],
   "source": [
    "with tf.device('/device:GPU:0'):\n",
    "  result = model.fit(\n",
    "          train_generator,\n",
    "          steps_per_epoch=30,\n",
    "          epochs=50,\n",
    "          validation_data=validation_generator,\n",
    "          validation_steps=30)"
   ]
  },
  {
   "cell_type": "code",
   "execution_count": 26,
   "metadata": {
    "colab": {
     "base_uri": "https://localhost:8080/"
    },
    "id": "2gj2N227Xo0h",
    "outputId": "febe5805-c5b6-4cd5-d8a4-4f13979c5393"
   },
   "outputs": [
    {
     "name": "stdout",
     "output_type": "stream",
     "text": [
      "173/173 [==============================] - 50s 290ms/step - loss: 0.8798 - accuracy: 0.6883\n"
     ]
    },
    {
     "data": {
      "text/plain": [
       "[0.8798477053642273, 0.6882966160774231]"
      ]
     },
     "execution_count": 26,
     "metadata": {
      "tags": []
     },
     "output_type": "execute_result"
    }
   ],
   "source": [
    "model.evaluate(validation_generator)"
   ]
  },
  {
   "cell_type": "code",
   "execution_count": 27,
   "metadata": {
    "colab": {
     "base_uri": "https://localhost:8080/"
    },
    "id": "L441Ec_bX49O",
    "outputId": "d2a9f162-1be6-4383-fdf6-1932af3222ff"
   },
   "outputs": [
    {
     "data": {
      "text/plain": [
       "dict_keys(['loss', 'accuracy', 'val_loss', 'val_accuracy'])"
      ]
     },
     "execution_count": 27,
     "metadata": {
      "tags": []
     },
     "output_type": "execute_result"
    }
   ],
   "source": [
    "x = result.history.keys()\n",
    "x"
   ]
  },
  {
   "cell_type": "code",
   "execution_count": 28,
   "metadata": {
    "colab": {
     "base_uri": "https://localhost:8080/",
     "height": 573
    },
    "id": "mow4jnX5X6t8",
    "outputId": "83feff18-6000-4e12-9169-86c6e20b82f7"
   },
   "outputs": [
    {
     "data": {
      "image/png": "[encoded data removed]",
      "text/plain": [
       "<Figure size 432x288 with 1 Axes>"
      ]
     },
     "metadata": {
      "needs_background": "light",
      "tags": []
     },
     "output_type": "display_data"
    },
    {
     "data": {
      "image/png": "[encoded data removed]",
      "text/plain": [
       "<Figure size 432x288 with 1 Axes>"
      ]
     },
     "metadata": {
      "needs_background": "light",
      "tags": []
     },
     "output_type": "display_data"
    }
   ],
   "source": [
    "\n",
    "# Visualize training history\n",
    "from keras.models import Sequential\n",
    "from keras.layers import Dense\n",
    "import matplotlib.pyplot as plt\n",
    "import numpy\n",
    "plt.plot(result.history['accuracy'])\n",
    "plt.plot(result.history['val_accuracy'])\n",
    "plt.title('model accuracy')\n",
    "plt.ylabel('accuracy')\n",
    "plt.xlabel('epoch')\n",
    "plt.legend(['train', 'test'], loc='upper left')\n",
    "plt.show()\n",
    "# summarize history for loss\n",
    "plt.plot(result.history['loss'])\n",
    "plt.plot(result.history['val_loss'])\n",
    "plt.title('model loss')\n",
    "plt.ylabel('loss')\n",
    "plt.xlabel('epoch')\n",
    "plt.legend(['train', 'test'], loc='upper left')\n",
    "plt.show()"
   ]
  },
  {
   "cell_type": "code",
   "execution_count": 29,
   "metadata": {
    "id": "ouT2wlHkX8Qg"
   },
   "outputs": [],
   "source": [
    "y_pred1 = model.predict(validation_generator)"
   ]
  },
  {
   "cell_type": "code",
   "execution_count": 30,
   "metadata": {
    "colab": {
     "base_uri": "https://localhost:8080/"
    },
    "id": "uc-2neK_X-Ba",
    "outputId": "5ba09c91-eaf7-4567-c01f-7d4ad4d3f460"
   },
   "outputs": [
    {
     "data": {
      "text/plain": [
       "(1726, 5)"
      ]
     },
     "execution_count": 30,
     "metadata": {
      "tags": []
     },
     "output_type": "execute_result"
    }
   ],
   "source": [
    "y_pred1.shape"
   ]
  },
  {
   "cell_type": "code",
   "execution_count": 31,
   "metadata": {
    "id": "Bwo5qc6UX_uo"
   },
   "outputs": [],
   "source": [
    "list1 = []\n",
    "for i in range(0,len(validation_generator)):\n",
    "  for j in range(0,val_batch):\n",
    "    try:\n",
    "      list1.append(validation_generator[i][1][j].tolist())\n",
    "    except:\n",
    "      break"
   ]
  },
  {
   "cell_type": "code",
   "execution_count": 32,
   "metadata": {
    "colab": {
     "base_uri": "https://localhost:8080/"
    },
    "id": "_fug9_WZYDOW",
    "outputId": "63b6ded6-2d18-45e4-f763-c5c96ff75e48"
   },
   "outputs": [
    {
     "data": {
      "text/plain": [
       "array([4, 4, 2, 3, 4, 1, 0, 4, 3, 3, 1, 2, 3, 3, 0, 1, 0, 0, 0, 3, 4, 3,\n",
       "       4, 1, 3, 3, 4, 3, 1, 4])"
      ]
     },
     "execution_count": 32,
     "metadata": {
      "tags": []
     },
     "output_type": "execute_result"
    }
   ],
   "source": [
    "np.argmax(y_pred1, axis=1)[0:30]"
   ]
  },
  {
   "cell_type": "code",
   "execution_count": 33,
   "metadata": {
    "colab": {
     "base_uri": "https://localhost:8080/"
    },
    "id": "YUuzDdKDYEid",
    "outputId": "035b5ee8-0c73-42f9-9cc8-52be9b1fc9ba"
   },
   "outputs": [
    {
     "data": {
      "text/plain": [
       "array([1, 2, 0, 3, 4, 1, 4, 0, 0, 2, 1, 4, 1, 1, 4, 1, 4, 0, 4, 0, 0, 1,\n",
       "       3, 0, 4, 1, 2, 1, 1, 4])"
      ]
     },
     "execution_count": 33,
     "metadata": {
      "tags": []
     },
     "output_type": "execute_result"
    }
   ],
   "source": [
    "np.argmax(list1[0:30],axis=1)"
   ]
  },
  {
   "cell_type": "code",
   "execution_count": null,
   "metadata": {
    "id": "CFXY82e_YHV9"
   },
   "outputs": [],
   "source": []
  }
 ],
 "metadata": {
  "accelerator": "TPU",
  "colab": {
   "name": "Untitled0.ipynb",
   "provenance": []
  },
  "kernelspec": {
   "display_name": "Python 3",
   "language": "python",
   "name": "python3"
  },
  "language_info": {
   "codemirror_mode": {
    "name": "ipython",
    "version": 3
   },
   "file_extension": ".py",
   "mimetype": "text/x-python",
   "name": "python",
   "nbconvert_exporter": "python",
   "pygments_lexer": "ipython3",
   "version": "3.8.8"
  }
 },
 "nbformat": 4,
 "nbformat_minor": 1
}
